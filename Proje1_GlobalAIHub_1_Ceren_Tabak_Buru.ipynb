{
  "nbformat": 4,
  "nbformat_minor": 0,
  "metadata": {
    "colab": {
      "name": "Proje1_GlobalAIHub_1.ipynb",
      "provenance": [],
      "collapsed_sections": []
    },
    "kernelspec": {
      "name": "python3",
      "display_name": "Python 3"
    },
    "language_info": {
      "name": "python"
    }
  },
  "cells": [
    {
      "cell_type": "markdown",
      "source": [
        "Bu projede bir öğrenci not sistemi oluşturacaksınız. Sizden istenilenler:\n",
        "\n",
        "Kendinize bir ders belirleyiniz. (Matematik,Fizik, Lineer Cebir vb.)\n",
        "\n",
        "Not aralığınızı oluşturunuz (100-80 ⇒ A, 79-70 ⇒ B vb.)\n",
        "\n",
        "Öğrenci Bilgilerini (Ad, Soyad, Okul No, sınav puanı) girebileceğiniz ve bu bilgilerin tutulabileceği bir sistem oluşturunuz.\n",
        "\n",
        "Girilen bilgilerden yola çıkarak öğrencinin dersi geçip geçmediğini göstermesi gerekmektedir.\n",
        "\n",
        "Öğrenci dersi geçti ise öğrencinin bilgilerinin tutulduğu alana “Geçti” yazısı, öğrenci dersi geçemedi ise “kaldı” yazısını göstermesi gerekmektedir.\n",
        "\n",
        "Notları girilen öğrencilerden dersi geçenleri ve geçmeyenleri gösteren bir Dataframe oluşturunuz. \n",
        "\n",
        "Oluşturulan Dataframe’i Excel tablosuna dönüştürünüz.\n",
        "\n",
        "\n",
        "\n"
      ],
      "metadata": {
        "id": "PtLpgq51UqDn"
      }
    },
    {
      "cell_type": "code",
      "execution_count": null,
      "metadata": {
        "id": "3qaPvbhoUjIp"
      },
      "outputs": [],
      "source": [
        "#Öğrenci Bilgilerini (Ad, Soyad, Okul No, sınav puanı) girebileceğiniz ve bu bilgilerin tutulabileceği bir sistem oluşturunuz.\n",
        "class LectureStatus():\n",
        "  def __init__(self, lecture, stu_name, stu_number, points):\n",
        "    self.lecture = lecture\n",
        "    self.stu_name = stu_name\n",
        "    self.stu_number = stu_number\n",
        "    self.points = points\n",
        "    self.grade = 0\n",
        "    self.status = 0\n",
        "\n",
        "#Puanları harf notuna dönüştürme, geçti/kaldı durumunu belirleme\n",
        "  def compute_grade(self):\n",
        "    points = self.points\n",
        "    if points >= 90:\n",
        "      self.grade = 'A' \n",
        "      self.status = 'Passed'\n",
        "    elif points >= 60:\n",
        "      self.grade = 'B' \n",
        "      self.status = 'Passed'\n",
        "    elif points >= 40:\n",
        "      self.grade = 'C' \n",
        "      self.status = 'Passed'\n",
        "    elif points >= 20:\n",
        "      self.grade = 'D' \n",
        "      self.status = 'Failed'\n",
        "    else:\n",
        "      self.grade ='F'\n",
        "      self.status = 'Failed'\n",
        "\n",
        "#Sonuç mesajı\n",
        "  def result_message(self):\n",
        "    if (self.grade <= 'C'):\n",
        "      print(f\"\"\"Congratulations, you passed! {self.stu_name} scored {self.points}/100 points in {self.lecture} and got the letter {self.grade}.\"\"\")\n",
        "    else:\n",
        "      print(f\"\"\" You failed the {self.lecture}! Try again next semester {self.stu_name} scored {self.points}/100 points in {self.lecture} and got the letter {self.grade}.\"\"\")\n",
        "\n",
        "#Sonuç özeti\n",
        "  def results(self):\n",
        "    \n",
        "    results = []\n",
        "    results.append((self.stu_name, self.lecture,self.grade, self.status))\n",
        "    print(results)"
      ]
    },
    {
      "cell_type": "code",
      "source": [
        "#Öğrenci 1\n",
        "stu1 = LectureStatus('Math','Ben Walt', 12345678, 10)\n",
        "stu1.compute_grade()\n",
        "stu1.result_message()\n",
        "stu1.results()"
      ],
      "metadata": {
        "colab": {
          "base_uri": "https://localhost:8080/"
        },
        "id": "35938uMxcOro",
        "outputId": "410fe35d-d0e0-40d2-eb77-6d2a2e368719"
      },
      "execution_count": null,
      "outputs": [
        {
          "output_type": "stream",
          "name": "stdout",
          "text": [
            " You failed the Math! Try again next semester Ben Walt scored 10/100 points in Math and got the letter F.\n",
            "[('Ben Walt', 'Math', 'F', 'Failed')]\n"
          ]
        }
      ]
    },
    {
      "cell_type": "code",
      "source": [
        "#Öğrenci 2\n",
        "stu2 = LectureStatus('Math','John Smith', 11234567, 66)\n",
        "stu2.compute_grade()\n",
        "stu2.result_message()\n",
        "stu2.results()"
      ],
      "metadata": {
        "colab": {
          "base_uri": "https://localhost:8080/"
        },
        "id": "aVcVidFbunQb",
        "outputId": "6fd291bd-593f-4181-fd51-4511e0f72554"
      },
      "execution_count": null,
      "outputs": [
        {
          "output_type": "stream",
          "name": "stdout",
          "text": [
            "Congratulations, you passed! John Smith scored 66/100 points in Math and got the letter B.\n",
            "[('John Smith', 'Math', 'B', 'Passed')]\n"
          ]
        }
      ]
    },
    {
      "cell_type": "code",
      "source": [
        "#Öğrenci 3\n",
        "stu3 = LectureStatus('Chemistry','Anna Barbez', 11123456, 88)\n",
        "stu3.compute_grade()\n",
        "stu3.result_message()\n",
        "stu3.results()"
      ],
      "metadata": {
        "colab": {
          "base_uri": "https://localhost:8080/"
        },
        "id": "2XtZUPyRQ-VL",
        "outputId": "2a706a37-515c-4edd-cd61-b65aa6cb2cd3"
      },
      "execution_count": null,
      "outputs": [
        {
          "output_type": "stream",
          "name": "stdout",
          "text": [
            "Congratulations, you passed! Anna Barbez scored 88/100 points in Chemistry and got the letter B.\n",
            "[('Anna Barbez', 'Chemistry', 'B', 'Passed')]\n"
          ]
        }
      ]
    },
    {
      "cell_type": "code",
      "source": [
        "#Öğrenci 4\n",
        "stu4 = LectureStatus('History','Ellen Poet', 11112345, 26)\n",
        "stu4.compute_grade()\n",
        "stu4.result_message()\n",
        "stu4.results()"
      ],
      "metadata": {
        "colab": {
          "base_uri": "https://localhost:8080/"
        },
        "id": "4V9TZgYwRZIZ",
        "outputId": "c3ce3d4a-8324-478e-c98a-4a5adf5ad292"
      },
      "execution_count": null,
      "outputs": [
        {
          "output_type": "stream",
          "name": "stdout",
          "text": [
            " You failed the History! Try again next semester Ellen Poet scored 26/100 points in History and got the letter D.\n",
            "[('Ellen Poet', 'History', 'D', 'Failed')]\n"
          ]
        }
      ]
    },
    {
      "cell_type": "code",
      "source": [
        "import pandas as pd\n"
      ],
      "metadata": {
        "id": "b0lLByVpVCz4"
      },
      "execution_count": null,
      "outputs": []
    },
    {
      "cell_type": "code",
      "source": [
        "#Dataframe oluşturmak için kullanıcak liste\n",
        "status = [('Ben Walt', 'Math', 'F', 'Failed'),('John Smith', 'Math', 'B', 'Passed'),('Anna Barbez', 'Chemistry', 'B', 'Passed'),('Ellen Poet', 'History', 'D', 'Failed')]"
      ],
      "metadata": {
        "id": "bVlCKLEnV-9W"
      },
      "execution_count": null,
      "outputs": []
    },
    {
      "cell_type": "code",
      "source": [
        "#Sonuçlardan pandas kullanarak dataframe oluştur\n",
        "df_status = pd.DataFrame(status, index= [1,2,3,4], columns=['Name','Lecture','Grade','Status'])\n",
        "df_status"
      ],
      "metadata": {
        "colab": {
          "base_uri": "https://localhost:8080/",
          "height": 175
        },
        "id": "MXSfLdGyVGao",
        "outputId": "cc2d41b2-a7e3-4171-984f-668514b70522"
      },
      "execution_count": null,
      "outputs": [
        {
          "output_type": "execute_result",
          "data": {
            "text/plain": [
              "          Name    Lecture Grade  Status\n",
              "1     Ben Walt       Math     F  Failed\n",
              "2   John Smith       Math     B  Passed\n",
              "3  Anna Barbez  Chemistry     B  Passed\n",
              "4   Ellen Poet    History     D  Failed"
            ],
            "text/html": [
              "\n",
              "  <div id=\"df-fad0db76-8a86-4aaf-881b-817edf08195c\">\n",
              "    <div class=\"colab-df-container\">\n",
              "      <div>\n",
              "<style scoped>\n",
              "    .dataframe tbody tr th:only-of-type {\n",
              "        vertical-align: middle;\n",
              "    }\n",
              "\n",
              "    .dataframe tbody tr th {\n",
              "        vertical-align: top;\n",
              "    }\n",
              "\n",
              "    .dataframe thead th {\n",
              "        text-align: right;\n",
              "    }\n",
              "</style>\n",
              "<table border=\"1\" class=\"dataframe\">\n",
              "  <thead>\n",
              "    <tr style=\"text-align: right;\">\n",
              "      <th></th>\n",
              "      <th>Name</th>\n",
              "      <th>Lecture</th>\n",
              "      <th>Grade</th>\n",
              "      <th>Status</th>\n",
              "    </tr>\n",
              "  </thead>\n",
              "  <tbody>\n",
              "    <tr>\n",
              "      <th>1</th>\n",
              "      <td>Ben Walt</td>\n",
              "      <td>Math</td>\n",
              "      <td>F</td>\n",
              "      <td>Failed</td>\n",
              "    </tr>\n",
              "    <tr>\n",
              "      <th>2</th>\n",
              "      <td>John Smith</td>\n",
              "      <td>Math</td>\n",
              "      <td>B</td>\n",
              "      <td>Passed</td>\n",
              "    </tr>\n",
              "    <tr>\n",
              "      <th>3</th>\n",
              "      <td>Anna Barbez</td>\n",
              "      <td>Chemistry</td>\n",
              "      <td>B</td>\n",
              "      <td>Passed</td>\n",
              "    </tr>\n",
              "    <tr>\n",
              "      <th>4</th>\n",
              "      <td>Ellen Poet</td>\n",
              "      <td>History</td>\n",
              "      <td>D</td>\n",
              "      <td>Failed</td>\n",
              "    </tr>\n",
              "  </tbody>\n",
              "</table>\n",
              "</div>\n",
              "      <button class=\"colab-df-convert\" onclick=\"convertToInteractive('df-fad0db76-8a86-4aaf-881b-817edf08195c')\"\n",
              "              title=\"Convert this dataframe to an interactive table.\"\n",
              "              style=\"display:none;\">\n",
              "        \n",
              "  <svg xmlns=\"http://www.w3.org/2000/svg\" height=\"24px\"viewBox=\"0 0 24 24\"\n",
              "       width=\"24px\">\n",
              "    <path d=\"M0 0h24v24H0V0z\" fill=\"none\"/>\n",
              "    <path d=\"M18.56 5.44l.94 2.06.94-2.06 2.06-.94-2.06-.94-.94-2.06-.94 2.06-2.06.94zm-11 1L8.5 8.5l.94-2.06 2.06-.94-2.06-.94L8.5 2.5l-.94 2.06-2.06.94zm10 10l.94 2.06.94-2.06 2.06-.94-2.06-.94-.94-2.06-.94 2.06-2.06.94z\"/><path d=\"M17.41 7.96l-1.37-1.37c-.4-.4-.92-.59-1.43-.59-.52 0-1.04.2-1.43.59L10.3 9.45l-7.72 7.72c-.78.78-.78 2.05 0 2.83L4 21.41c.39.39.9.59 1.41.59.51 0 1.02-.2 1.41-.59l7.78-7.78 2.81-2.81c.8-.78.8-2.07 0-2.86zM5.41 20L4 18.59l7.72-7.72 1.47 1.35L5.41 20z\"/>\n",
              "  </svg>\n",
              "      </button>\n",
              "      \n",
              "  <style>\n",
              "    .colab-df-container {\n",
              "      display:flex;\n",
              "      flex-wrap:wrap;\n",
              "      gap: 12px;\n",
              "    }\n",
              "\n",
              "    .colab-df-convert {\n",
              "      background-color: #E8F0FE;\n",
              "      border: none;\n",
              "      border-radius: 50%;\n",
              "      cursor: pointer;\n",
              "      display: none;\n",
              "      fill: #1967D2;\n",
              "      height: 32px;\n",
              "      padding: 0 0 0 0;\n",
              "      width: 32px;\n",
              "    }\n",
              "\n",
              "    .colab-df-convert:hover {\n",
              "      background-color: #E2EBFA;\n",
              "      box-shadow: 0px 1px 2px rgba(60, 64, 67, 0.3), 0px 1px 3px 1px rgba(60, 64, 67, 0.15);\n",
              "      fill: #174EA6;\n",
              "    }\n",
              "\n",
              "    [theme=dark] .colab-df-convert {\n",
              "      background-color: #3B4455;\n",
              "      fill: #D2E3FC;\n",
              "    }\n",
              "\n",
              "    [theme=dark] .colab-df-convert:hover {\n",
              "      background-color: #434B5C;\n",
              "      box-shadow: 0px 1px 3px 1px rgba(0, 0, 0, 0.15);\n",
              "      filter: drop-shadow(0px 1px 2px rgba(0, 0, 0, 0.3));\n",
              "      fill: #FFFFFF;\n",
              "    }\n",
              "  </style>\n",
              "\n",
              "      <script>\n",
              "        const buttonEl =\n",
              "          document.querySelector('#df-fad0db76-8a86-4aaf-881b-817edf08195c button.colab-df-convert');\n",
              "        buttonEl.style.display =\n",
              "          google.colab.kernel.accessAllowed ? 'block' : 'none';\n",
              "\n",
              "        async function convertToInteractive(key) {\n",
              "          const element = document.querySelector('#df-fad0db76-8a86-4aaf-881b-817edf08195c');\n",
              "          const dataTable =\n",
              "            await google.colab.kernel.invokeFunction('convertToInteractive',\n",
              "                                                     [key], {});\n",
              "          if (!dataTable) return;\n",
              "\n",
              "          const docLinkHtml = 'Like what you see? Visit the ' +\n",
              "            '<a target=\"_blank\" href=https://colab.research.google.com/notebooks/data_table.ipynb>data table notebook</a>'\n",
              "            + ' to learn more about interactive tables.';\n",
              "          element.innerHTML = '';\n",
              "          dataTable['output_type'] = 'display_data';\n",
              "          await google.colab.output.renderOutput(dataTable, element);\n",
              "          const docLink = document.createElement('div');\n",
              "          docLink.innerHTML = docLinkHtml;\n",
              "          element.appendChild(docLink);\n",
              "        }\n",
              "      </script>\n",
              "    </div>\n",
              "  </div>\n",
              "  "
            ]
          },
          "metadata": {},
          "execution_count": 163
        }
      ]
    },
    {
      "cell_type": "code",
      "source": [
        " #Dataframe için excel dosyası oluşturma\n",
        " \n",
        "writer = pd.ExcelWriter('status_excel.xlsx')"
      ],
      "metadata": {
        "id": "ONAolyr2NBT3"
      },
      "execution_count": null,
      "outputs": []
    },
    {
      "cell_type": "code",
      "source": [
        "# Dataframi excele yaz \n",
        " \n",
        "df_status.to_excel(writer)\n",
        " \n",
        "# Exceli kaydet\n",
        "writer.save()\n",
        "print(\"DataFrame is exported successfully to 'converted-to-excel.xlsx' Excel File.\")\n"
      ],
      "metadata": {
        "colab": {
          "base_uri": "https://localhost:8080/"
        },
        "id": "PjCJWFbaNGdQ",
        "outputId": "43b7c81a-0b21-4045-a1cf-335250b8709e"
      },
      "execution_count": null,
      "outputs": [
        {
          "output_type": "stream",
          "name": "stdout",
          "text": [
            "DataFrame is exported successfully to 'converted-to-excel.xlsx' Excel File.\n"
          ]
        }
      ]
    }
  ]
}