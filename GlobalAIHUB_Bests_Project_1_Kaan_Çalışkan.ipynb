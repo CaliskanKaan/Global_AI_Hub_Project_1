{
  "nbformat": 4,
  "nbformat_minor": 0,
  "metadata": {
    "colab": {
      "name": "GlobalAIHUB_Bests - Project 1.ipynb",
      "provenance": [],
      "collapsed_sections": []
    },
    "kernelspec": {
      "name": "python3",
      "display_name": "Python 3"
    },
    "language_info": {
      "name": "python"
    }
  },
  "cells": [
    {
      "cell_type": "markdown",
      "source": [
        "**PYBTCMP - 11**\n",
        "\n",
        "**Grup Adı: Global-AI-Hub-Bests**\n",
        "\n",
        "**Grup Üyeleri:** Kaan Çalışkan, Ceren Tabak Buru, Simge Meryem Sarıer, Korhan Köykıran, Kübra Usta\n",
        "\n",
        "**Proje Konusu:** Öğrenci Not Sistemi \n",
        "\n",
        "**Gereksinimler:**\n",
        "\n",
        "*   Not sistemi oluşturulacak dersin belirlenmesi (Matematik,Fizik, Lineer Cebir vb.)\n",
        "*   Not aralığınızı oluşturunuz (100-80 ⇒ A, 79-70 ⇒ B vb.)\n",
        "*   Öğrenci Bilgilerini (Ad, Soyad, Okul No, sınav puanı) girebileceğiniz ve bu bilgilerin tutulabileceği bir sistem oluşturunuz.\n",
        "*   Girilen bilgilerden yola çıkarak öğrencinin dersi geçip geçmediğini göstermesi gerekmektedir.\n",
        "*   Öğrenci dersi geçti ise öğrencinin bilgilerinin tutulduğu alana “Geçti” yazısı, öğrenci dersi geçemedi ise “kaldı” yazısını göstermesi gerekmektedir.\n",
        "*   Notları girilen öğrencilerden dersi geçenleri ve geçmeyenleri gösteren bir Dataframe oluşturunuz.\n",
        "*   Oluşturulan Dataframe’i Excel tablosuna dönüştürünüz."
      ],
      "metadata": {
        "id": "u3a9CPjVrqHy"
      }
    },
    {
      "cell_type": "markdown",
      "source": [
        "Adım 1: ... dersi için not sistemi oluşturulmasına karar verilmiştir.\n",
        "\n",
        "**Puan Tablosu**\n",
        "\n",
        "* 100 (A+)\n",
        "* 90 - 100 (A)\n",
        "* 85 - 89 (BA)\n",
        "* 80 - 84 (BB)\n",
        "* 75 - 79 (CB)\n",
        "* 70 - 74 (CC)\n",
        "* 65 - 69 (DC)\n",
        "* 60 - 64 (DD)\n",
        "* 50 - 59 (FD)\n",
        "* 0 - 49 (FF)\n",
        "\n"
      ],
      "metadata": {
        "id": "X2KuUrNHucrv"
      }
    },
    {
      "cell_type": "markdown",
      "source": [
        "📌 if, elif ve else koşullarını kullanmak istiyoruz.\n",
        "\n",
        "... dersi için not aralığı oluşturulması için ders nonu hesaplama fonksiyonunu tanımlıyoruz."
      ],
      "metadata": {
        "id": "hvOfLVIXzoJ_"
      }
    },
    {
      "cell_type": "code",
      "source": [
        "def ders_notu_hesaplama(notlar):\n",
        "  x = int(notlar)\n",
        "  if x == 100:\n",
        "    return 'A+'\n",
        "  elif x >= 90:\n",
        "    return 'AA'\n",
        "  elif x >= 85:\n",
        "    return \"BA\"\n",
        "  elif x >= 80:\n",
        "    return 'BB'\n",
        "  elif x >= 75:\n",
        "    return 'CB'\n",
        "  elif x >= 70:\n",
        "    return 'CC'\n",
        "  elif x >= 65:\n",
        "    return 'DC'\n",
        "  elif x >= 60:\n",
        "    return 'DD'\n",
        "  elif x >= 50:\n",
        "    return 'FD'\n",
        "  if x < 0:\n",
        "    return ValueError(\"HATA: Negatif değer\")\n",
        "  else:\n",
        "    return 'F'"
      ],
      "metadata": {
        "id": "B6cUZpS9rY3x"
      },
      "execution_count": null,
      "outputs": []
    },
    {
      "cell_type": "markdown",
      "source": [
        "Koşul fonksiyonumuz çalışıyor mu? kontrol ediyoruz."
      ],
      "metadata": {
        "id": "6zaQm6Wwz4uC"
      }
    },
    {
      "cell_type": "code",
      "source": [
        "ders_notu_hesaplama(100)"
      ],
      "metadata": {
        "colab": {
          "base_uri": "https://localhost:8080/",
          "height": 35
        },
        "id": "z23xAAVwzOgj",
        "outputId": "a3e51c68-2737-4bb8-999b-0874ede2ae0a"
      },
      "execution_count": null,
      "outputs": [
        {
          "output_type": "execute_result",
          "data": {
            "text/plain": [
              "'A+'"
            ],
            "application/vnd.google.colaboratory.intrinsic+json": {
              "type": "string"
            }
          },
          "metadata": {},
          "execution_count": 150
        }
      ]
    },
    {
      "cell_type": "code",
      "source": [
        "ders_notu_hesaplama(85)"
      ],
      "metadata": {
        "colab": {
          "base_uri": "https://localhost:8080/",
          "height": 35
        },
        "id": "unHgu-Nd0EmT",
        "outputId": "1c1dae6b-753f-42b2-c141-23a779e87183"
      },
      "execution_count": null,
      "outputs": [
        {
          "output_type": "execute_result",
          "data": {
            "text/plain": [
              "'BA'"
            ],
            "application/vnd.google.colaboratory.intrinsic+json": {
              "type": "string"
            }
          },
          "metadata": {},
          "execution_count": 149
        }
      ]
    },
    {
      "cell_type": "code",
      "source": [
        "ders_notu_hesaplama(-1)"
      ],
      "metadata": {
        "colab": {
          "base_uri": "https://localhost:8080/"
        },
        "id": "7hajYvW54TuV",
        "outputId": "70019a3d-469f-4e8a-f2cc-2bacc0fc66ef"
      },
      "execution_count": null,
      "outputs": [
        {
          "output_type": "execute_result",
          "data": {
            "text/plain": [
              "ValueError('HATA: Negatif değer')"
            ]
          },
          "metadata": {},
          "execution_count": 162
        }
      ]
    },
    {
      "cell_type": "markdown",
      "source": [
        "Adım 2: Öğrenci Bilgilerini (Ad, Soyad, Okul No, Sınav Puanı) girilen ve bu bilgilerin tutulduğu bir sistem oluşturma"
      ],
      "metadata": {
        "id": "SQmyxECt_gzs"
      }
    },
    {
      "cell_type": "code",
      "source": [
        "def ogrenci_not_sistemi_raporu(ad, soyad, okulno, ders, notlar):\n",
        "  return str(okulno) + \" numaralı, \" + ad + soyad + \" adlı öğrencimiz \" + ders + \" dersinden \" + str(notlar) + \"/100 puan alarak \" + ders_notu_hesaplama(notlar) + \" notunu almaya hak kazanmıştır.\"\n"
      ],
      "metadata": {
        "id": "yAlen1bl9_sC"
      },
      "execution_count": null,
      "outputs": []
    },
    {
      "cell_type": "markdown",
      "source": [
        "Raporlama fonksiyonunu test edelim."
      ],
      "metadata": {
        "id": "XFJPMfaCEUu3"
      }
    },
    {
      "cell_type": "code",
      "source": [
        "ogrenci_not_sistemi_raporu(\"Kaan\", \" Çalışkan\", 1234567890, \"Tarih\", 80)"
      ],
      "metadata": {
        "colab": {
          "base_uri": "https://localhost:8080/",
          "height": 35
        },
        "id": "6m4Pjh7QBC3o",
        "outputId": "9f7c7aa3-f52e-4a1f-fda2-68500e939620"
      },
      "execution_count": null,
      "outputs": [
        {
          "output_type": "execute_result",
          "data": {
            "text/plain": [
              "'1234567890 numaralı, Kaan Çalışkan adlı öğrencimiz Tarih dersinden 80/100 puan alarak BB notunu almaya hak kazanmıştır.'"
            ],
            "application/vnd.google.colaboratory.intrinsic+json": {
              "type": "string"
            }
          },
          "metadata": {},
          "execution_count": 230
        }
      ]
    },
    {
      "cell_type": "markdown",
      "source": [
        "Girilen bilgilerden yola çıkarak öğrencilerin dersi geçip geçmediğinin gösterilmesi"
      ],
      "metadata": {
        "id": "5NNMp1xjLRZa"
      }
    },
    {
      "cell_type": "code",
      "source": [
        "ad = input('Öğrencinin Adı: ')\n",
        "soyad = input('Öğrencinin Soyadı: ')\n",
        "okulno = input('Öğrencinin Okul Numarası: ')\n",
        "ders = input('Ders Adı: ')\n",
        "notlar = input('Aldığı Not: ')\n",
        "\n",
        "print(okulno, \"numaralı,\", ad, soyad, \"adlı öğrencimiz\", ders, \"dersinden \", notlar,\"/100 puan alarak \", ders_notu_hesaplama(notlar), \"notunu almaya hak kazanmıştır.\")"
      ],
      "metadata": {
        "colab": {
          "base_uri": "https://localhost:8080/"
        },
        "id": "g9B6rHVJC4Yk",
        "outputId": "bf0260c3-5ae7-494c-a0cd-37b0ea5b0073"
      },
      "execution_count": null,
      "outputs": [
        {
          "output_type": "stream",
          "name": "stdout",
          "text": [
            "Öğrencinin Adı: Kaan\n",
            "Öğrencinin Soyadı: Çalışkan\n",
            "Öğrencinin Okul Numarası: 1234567890\n",
            "Ders Adı: Tarih\n",
            "Aldığı Not: 80\n",
            "1234567890 numaralı, Kaan Çalışkan adlı öğrencimiz Tarih dersinden  80 /100 puan alarak  BB notunu almaya hak kazanmıştır.\n"
          ]
        }
      ]
    },
    {
      "cell_type": "code",
      "source": [
        "ad = input('Öğrencinin Adı: ')\n",
        "soyad = input('Öğrencinin Soyadı: ')\n",
        "okulno = input('Öğrencinin Okul Numarası: ')\n",
        "ders = input('Ders Adı: ')\n",
        "notlar = input('Aldığı Not: ')\n",
        "\n",
        "if notlar >= str(60):\n",
        "  print(\"Sayın\", ad, soyad, \"almış olduğunuz\", ders_notu_hesaplama(notlar), \"harf notu ile\", ders, \"dersinden geçtiniz. Sizi tebrik ederiz.\")\n",
        "else:\n",
        "  print(\"Sayın\", ad, soyad, \"almış olduğunuz\", ders_notu_hesaplama(notlar), \"harf notu ile\", ders, \"dersinden kaldınız. Bir sonraki yıl tekrar etmeniz gerekmektedir.\")"
      ],
      "metadata": {
        "colab": {
          "base_uri": "https://localhost:8080/"
        },
        "id": "w3OqWOLOSNtU",
        "outputId": "1f3bbe2d-87cd-4e5f-c2cf-25252265e669"
      },
      "execution_count": null,
      "outputs": [
        {
          "output_type": "stream",
          "name": "stdout",
          "text": [
            "Öğrencinin Adı: Kaan\n",
            "Öğrencinin Soyadı: Çalışkan\n",
            "Öğrencinin Okul Numarası: 1234567890\n",
            "Ders Adı: Tarih\n",
            "Aldığı Not: 20\n",
            "Sayın Kaan Çalışkan almış olduğunuz F harf notu ile Tarih dersinden kaldınız. Bir sonraki yıl tekrar etmeniz gerekmektedir.\n"
          ]
        }
      ]
    },
    {
      "cell_type": "markdown",
      "source": [
        "Öğrenci dersi geçti ise öğrencinin bilgilerinin tutulduğu alana “Geçti” yazısı, öğrenci dersi geçemedi ise “kaldı” yazısını göstermesi gerekmektedir.\n",
        "\n",
        "Oluşturulan Dataframe’i Excel tablosuna dönüştürülmesi"
      ],
      "metadata": {
        "id": "lDqhpGtkGaEQ"
      }
    },
    {
      "cell_type": "code",
      "source": [
        "import pandas as pd\n",
        "\n",
        "ogrenci_yilsonu_karnesi = {'Ad': ['Kaan', 'Ceren', 'Simge', 'Korhan', 'Kübra'],\n",
        "                           'Soyad': ['Çalışkan', 'Tabak Buru', 'Meryem Sarıer', 'Köykıran', 'Usta'],\n",
        "                           'Okulno': [1234567890, 2345678901, 3456789012, 4567890123, 5678901234],\n",
        "                           'Ders': ['Tarih', 'Matematik', 'Astrofizik', 'Mekatronik', 'Makine Öğrenmesi'],\n",
        "                           'Notlar': [80, 90, 65, 40, 55],\n",
        "                           'Harf Notu': ['Geçti', 'Geçti', 'Geçti', 'Kaldı', 'Kaldı']}\n",
        "                           \n",
        "df = pd.DataFrame(ogrenci_yilsonu_karnesi)\n",
        "\n",
        "left_aligned_df = df.style.set_properties(**{'text-align': 'left'})\n",
        " \n",
        "left_aligned_df = left_aligned_df.set_table_styles(\n",
        "[dict(selector = 'th', props=[('text-align', 'left')])])\n",
        " \n",
        "display(left_aligned_df)"
      ],
      "metadata": {
        "id": "RYABRtezWwAP",
        "colab": {
          "base_uri": "https://localhost:8080/",
          "height": 206
        },
        "outputId": "86f949bd-6814-4118-ce29-85be19868c4c"
      },
      "execution_count": null,
      "outputs": [
        {
          "output_type": "display_data",
          "data": {
            "text/plain": [
              "<pandas.io.formats.style.Styler at 0x7f7a29449410>"
            ],
            "text/html": [
              "<style type=\"text/css\">\n",
              "#T_0b6fd_ th {\n",
              "  text-align: left;\n",
              "}\n",
              "#T_0b6fd_row0_col0, #T_0b6fd_row0_col1, #T_0b6fd_row0_col2, #T_0b6fd_row0_col3, #T_0b6fd_row0_col4, #T_0b6fd_row0_col5, #T_0b6fd_row1_col0, #T_0b6fd_row1_col1, #T_0b6fd_row1_col2, #T_0b6fd_row1_col3, #T_0b6fd_row1_col4, #T_0b6fd_row1_col5, #T_0b6fd_row2_col0, #T_0b6fd_row2_col1, #T_0b6fd_row2_col2, #T_0b6fd_row2_col3, #T_0b6fd_row2_col4, #T_0b6fd_row2_col5, #T_0b6fd_row3_col0, #T_0b6fd_row3_col1, #T_0b6fd_row3_col2, #T_0b6fd_row3_col3, #T_0b6fd_row3_col4, #T_0b6fd_row3_col5, #T_0b6fd_row4_col0, #T_0b6fd_row4_col1, #T_0b6fd_row4_col2, #T_0b6fd_row4_col3, #T_0b6fd_row4_col4, #T_0b6fd_row4_col5 {\n",
              "  text-align: left;\n",
              "}\n",
              "</style>\n",
              "<table id=\"T_0b6fd_\" class=\"dataframe\">\n",
              "  <thead>\n",
              "    <tr>\n",
              "      <th class=\"blank level0\" >&nbsp;</th>\n",
              "      <th class=\"col_heading level0 col0\" >Ad</th>\n",
              "      <th class=\"col_heading level0 col1\" >Soyad</th>\n",
              "      <th class=\"col_heading level0 col2\" >Okulno</th>\n",
              "      <th class=\"col_heading level0 col3\" >Ders</th>\n",
              "      <th class=\"col_heading level0 col4\" >Notlar</th>\n",
              "      <th class=\"col_heading level0 col5\" >Harf Notu</th>\n",
              "    </tr>\n",
              "  </thead>\n",
              "  <tbody>\n",
              "    <tr>\n",
              "      <th id=\"T_0b6fd_level0_row0\" class=\"row_heading level0 row0\" >0</th>\n",
              "      <td id=\"T_0b6fd_row0_col0\" class=\"data row0 col0\" >Kaan</td>\n",
              "      <td id=\"T_0b6fd_row0_col1\" class=\"data row0 col1\" >Çalışkan</td>\n",
              "      <td id=\"T_0b6fd_row0_col2\" class=\"data row0 col2\" >1234567890</td>\n",
              "      <td id=\"T_0b6fd_row0_col3\" class=\"data row0 col3\" >Tarih</td>\n",
              "      <td id=\"T_0b6fd_row0_col4\" class=\"data row0 col4\" >80</td>\n",
              "      <td id=\"T_0b6fd_row0_col5\" class=\"data row0 col5\" >Geçti</td>\n",
              "    </tr>\n",
              "    <tr>\n",
              "      <th id=\"T_0b6fd_level0_row1\" class=\"row_heading level0 row1\" >1</th>\n",
              "      <td id=\"T_0b6fd_row1_col0\" class=\"data row1 col0\" >Ceren</td>\n",
              "      <td id=\"T_0b6fd_row1_col1\" class=\"data row1 col1\" >Tabak Buru</td>\n",
              "      <td id=\"T_0b6fd_row1_col2\" class=\"data row1 col2\" >2345678901</td>\n",
              "      <td id=\"T_0b6fd_row1_col3\" class=\"data row1 col3\" >Matematik</td>\n",
              "      <td id=\"T_0b6fd_row1_col4\" class=\"data row1 col4\" >90</td>\n",
              "      <td id=\"T_0b6fd_row1_col5\" class=\"data row1 col5\" >Geçti</td>\n",
              "    </tr>\n",
              "    <tr>\n",
              "      <th id=\"T_0b6fd_level0_row2\" class=\"row_heading level0 row2\" >2</th>\n",
              "      <td id=\"T_0b6fd_row2_col0\" class=\"data row2 col0\" >Simge</td>\n",
              "      <td id=\"T_0b6fd_row2_col1\" class=\"data row2 col1\" >Meryem Sarıer</td>\n",
              "      <td id=\"T_0b6fd_row2_col2\" class=\"data row2 col2\" >3456789012</td>\n",
              "      <td id=\"T_0b6fd_row2_col3\" class=\"data row2 col3\" >Astrofizik</td>\n",
              "      <td id=\"T_0b6fd_row2_col4\" class=\"data row2 col4\" >65</td>\n",
              "      <td id=\"T_0b6fd_row2_col5\" class=\"data row2 col5\" >Geçti</td>\n",
              "    </tr>\n",
              "    <tr>\n",
              "      <th id=\"T_0b6fd_level0_row3\" class=\"row_heading level0 row3\" >3</th>\n",
              "      <td id=\"T_0b6fd_row3_col0\" class=\"data row3 col0\" >Korhan</td>\n",
              "      <td id=\"T_0b6fd_row3_col1\" class=\"data row3 col1\" >Köykıran</td>\n",
              "      <td id=\"T_0b6fd_row3_col2\" class=\"data row3 col2\" >4567890123</td>\n",
              "      <td id=\"T_0b6fd_row3_col3\" class=\"data row3 col3\" >Mekatronik</td>\n",
              "      <td id=\"T_0b6fd_row3_col4\" class=\"data row3 col4\" >40</td>\n",
              "      <td id=\"T_0b6fd_row3_col5\" class=\"data row3 col5\" >Kaldı</td>\n",
              "    </tr>\n",
              "    <tr>\n",
              "      <th id=\"T_0b6fd_level0_row4\" class=\"row_heading level0 row4\" >4</th>\n",
              "      <td id=\"T_0b6fd_row4_col0\" class=\"data row4 col0\" >Kübra</td>\n",
              "      <td id=\"T_0b6fd_row4_col1\" class=\"data row4 col1\" >Usta</td>\n",
              "      <td id=\"T_0b6fd_row4_col2\" class=\"data row4 col2\" >5678901234</td>\n",
              "      <td id=\"T_0b6fd_row4_col3\" class=\"data row4 col3\" >Makine Öğrenmesi</td>\n",
              "      <td id=\"T_0b6fd_row4_col4\" class=\"data row4 col4\" >55</td>\n",
              "      <td id=\"T_0b6fd_row4_col5\" class=\"data row4 col5\" >Kaldı</td>\n",
              "    </tr>\n",
              "  </tbody>\n",
              "</table>\n"
            ]
          },
          "metadata": {}
        }
      ]
    },
    {
      "cell_type": "code",
      "source": [
        ""
      ],
      "metadata": {
        "id": "YsBSQyJqLsb-"
      },
      "execution_count": null,
      "outputs": []
    }
  ]
}